{
 "cells": [
  {
   "attachments": {},
   "cell_type": "markdown",
   "metadata": {},
   "source": [
    "# Practical session 2 - Practise with classic libraries\n",
    "\n",
    "Students (pair):\n",
    "- [Student 1]([link](https://github.com/username1))\n",
    "- [Student 2]([link](https://github.com/username2))"
   ]
  },
  {
   "attachments": {},
   "cell_type": "markdown",
   "metadata": {},
   "source": [
    "```\n",
    "conda create --name=lab2 --file=requirement.txt\n",
    "conda activate lab2\n",
    "# do not forget to deactivate the environment if needed\n",
    "# you can remove the environment once you are done\n",
    "conda env remove --name=lab2\n",
    "```"
   ]
  },
  {
   "attachments": {},
   "cell_type": "markdown",
   "metadata": {},
   "source": [
    "**Useful references for this lab**:\n",
    "\n",
    "[1] `numpy`: [lecture notes (1.4.1-1.4.2)](https://scipy-lectures.org/intro/numpy/index.html) and [documentation](https://numpy.org/doc/stable/)\n",
    "\n",
    "[2] `pandas`: [documentation](https://pandas.pydata.org/docs/getting_started/index.html), [quick tutorial](https://pandas.pydata.org/pandas-docs/version/0.15/10min.html)\n",
    "\n",
    "[3] `matplotlib`: [lecture notes (1.5)](https://scipy-lectures.org/intro/matplotlib/index.html) and [documentation](https://matplotlib.org/)\n",
    "\n",
    "[4] `h5py`: [quick start guide](http://docs.h5py.org/en/stable/quick.html#quick)"
   ]
  },
  {
   "attachments": {},
   "cell_type": "markdown",
   "metadata": {},
   "source": [
    "## <a name=\"content\">Contents</a>\n",
    "- [Exercise 1: Computing basic statistics](#ex1)\n",
    "- [Exercise 2: Random variables and histograms](#ex2)\n",
    "- [Exercise 3: Discrete isotropic total variation](#ex3)\n",
    "---"
   ]
  },
  {
   "cell_type": "code",
   "execution_count": 4,
   "metadata": {},
   "outputs": [
    {
     "name": "stdout",
     "output_type": "stream",
     "text": [
      "The autoreload extension is already loaded. To reload it, use:\n",
      "  %reload_ext autoreload\n"
     ]
    }
   ],
   "source": [
    "%load_ext autoreload\n",
    "%autoreload 2"
   ]
  },
  {
   "cell_type": "code",
   "execution_count": 1,
   "metadata": {},
   "outputs": [],
   "source": [
    "import numpy as np\n",
    "import matplotlib.pyplot as plt\n",
    "from scipy.stats import gamma\n",
    "import pandas as pd\n",
    "import unittest"
   ]
  },
  {
   "attachments": {},
   "cell_type": "markdown",
   "metadata": {},
   "source": [
    "---\n",
    "## <a name=\"ex1\">Exercise 1: Random variables and histograms</a>\n",
    "\n",
    "In this exercise, we are interested in generating samples from the Gamma distribution $\\mathcal{G}(\\alpha,\\beta)$, of probability density function (pdf)\n",
    "\n",
    "\\begin{equation}\n",
    "    p(x) = \\frac{\\beta^\\alpha}{\\Gamma(\\alpha)} x^{\\alpha-1} \\exp(-\\beta x) \\mathbb{1}_{\\mathbb{R}_+^*}(x),\n",
    "\\end{equation}\n",
    "\n",
    "and displaying their histogram. In the following, we consider $(\\alpha, \\beta) = (9, 2)$.\n",
    "\n",
    "1\\. Set the random seed to a fixed value for reproducibility, and biefly check your instruction works as intended.\n",
    "> Hint: you may take a look at the following pages: [random module](https://numpy.org/doc/stable/reference/random/index.html?highlight=random#module-numpy.random), [random generator](https://numpy.org/doc/stable/reference/random/generator.html)."
   ]
  },
  {
   "attachments": {},
   "cell_type": "markdown",
   "metadata": {},
   "source": [
    "**Answer**:"
   ]
  },
  {
   "cell_type": "code",
   "execution_count": 13,
   "metadata": {},
   "outputs": [],
   "source": [
    "np.random.seed(42)\n",
    "\n",
    "alpha = 9\n",
    "beta = 2"
   ]
  },
  {
   "attachments": {},
   "cell_type": "markdown",
   "metadata": {},
   "source": [
    "2\\. Generate $\\approx 10^5$ samples in a vector. Save the vector in a file, `samples.hdf5` or `samples.npy`.\n",
    "> Warning / hint: \n",
    "> - take a careful look at the [documentation](https://numpy.org/doc/stable/reference/random/generated/numpy.random.gamma.html?highlight=gamma#numpy.random.gamma) (multiple conventions exist for the definition of the pdf underlying the distribution...);\n",
    "> - to save data in a `npy` file, take a look at the example reported in the [Numpy documentation](https://numpy.org/doc/stable/reference/generated/numpy.save.html);\n",
    "> - to save data in a `.h5` file, take a quick look at the [documentation here](https://docs.h5py.org/en/stable/quick.html#quick)."
   ]
  },
  {
   "attachments": {},
   "cell_type": "markdown",
   "metadata": {},
   "source": [
    "**Answer**:"
   ]
  },
  {
   "cell_type": "code",
   "execution_count": 23,
   "metadata": {},
   "outputs": [
    {
     "data": {
      "text/plain": [
       "array([5.1063685 , 4.13298334, 3.99772611, ..., 6.63710881, 4.18045612,\n",
       "       3.41766195])"
      ]
     },
     "execution_count": 23,
     "metadata": {},
     "output_type": "execute_result"
    }
   ],
   "source": [
    "np.random.seed(42)\n",
    "samples = np.random.gamma(alpha, 1/beta, 100000)\n",
    "np.save('samples.npy', samples)\n",
    "samples"
   ]
  },
  {
   "attachments": {},
   "cell_type": "markdown",
   "metadata": {},
   "source": [
    "3\\. Estimate an histogram of this distribution for a well chosen set of bins, and display it.\n",
    "> Warnings: \n",
    "> - make sure the [histogram](https://matplotlib.org/api/_as_gen/matplotlib.pyplot.hist.html?highlight=hist#matplotlib.pyplot.hist) corresponds to a probability density function (pdf);\n",
    "> - do not forget to include a proper title with names for the axes."
   ]
  },
  {
   "attachments": {},
   "cell_type": "markdown",
   "metadata": {},
   "source": [
    "**Answer**:"
   ]
  },
  {
   "cell_type": "code",
   "execution_count": 26,
   "metadata": {},
   "outputs": [
    {
     "data": {
      "image/png": "[encoded data removed]",
      "text/plain": [
       "<Figure size 640x480 with 1 Axes>"
      ]
     },
     "metadata": {},
     "output_type": "display_data"
    }
   ],
   "source": [
    "plt.hist(samples, bins=50, density=True, color='green', alpha=0.75)\n",
    "\n",
    "plt.title(\"Histogramme de la distribution Gamma\")\n",
    "plt.xlabel(\"Valeur\")\n",
    "plt.ylabel(\"Densité de probabilité\")\n",
    "plt.grid(True)\n",
    "plt.show()"
   ]
  },
  {
   "attachments": {},
   "cell_type": "markdown",
   "metadata": {},
   "source": [
    "4\\. Overlay the probability density function on the histogram and compare these in a few words. Save the resulting picture in `.png` format.\n",
    "> Hint: \n",
    "> - take a look at the `scipy` [documentation](https://docs.scipy.org/doc/scipy/reference/stats.html) to avoid implementing the pdf from scratch;\n",
    "> - return the bins in which the histogram is computed, and evaluate the pdf on those points."
   ]
  },
  {
   "attachments": {},
   "cell_type": "markdown",
   "metadata": {},
   "source": [
    "**Answer**:"
   ]
  },
  {
   "cell_type": "code",
   "execution_count": 6,
   "metadata": {},
   "outputs": [
    {
     "data": {
      "image/png": "[encoded data removed]",
      "text/plain": [
       "<Figure size 640x480 with 1 Axes>"
      ]
     },
     "metadata": {},
     "output_type": "display_data"
    }
   ],
   "source": [
    "count, bins, ignored = plt.hist(samples, bins=50, density=True, color='green', alpha=0.75)\n",
    "\n",
    "alpha = 9\n",
    "beta = 2\n",
    "pdf_gamma = gamma.pdf(bins, a=alpha, scale=1/beta)\n",
    "\n",
    "plt.plot(bins, pdf_gamma, 'r-', lw=2, label='PDF théorique')\n",
    "\n",
    "plt.title(\"Comparaison de l'histogramme et de la PDF théorique (Gamma)\")\n",
    "plt.xlabel(\"Valeur\")\n",
    "plt.ylabel(\"Densité de probabilité\")\n",
    "plt.legend()\n",
    "\n",
    "plt.grid(True)\n",
    "plt.savefig('gamma_histogram_overlay.png')\n",
    "plt.show()"
   ]
  },
  {
   "attachments": {},
   "cell_type": "markdown",
   "metadata": {},
   "source": [
    "---\n",
    "## <a name=\"ex2\">Exercise 2: Basic statistics with `pandas`</a>\n",
    "\n",
    "In this second exercise, we focus on computing basic statistics, and applying linear regression to a small data set. These data are gathered in the following table, which gives the infant mortality (`X`) and the gross national product per inhabitant (`Y`) of 12 european countries :\n",
    "\n",
    "| `X` | 190 | 128 | 180 | 212 | 56 | 192 | 68 | 98 | 110 | 197 | 181 | 233 |\n",
    "|-----|-----|-----|-----|----|-----|----|----|-----|-----|-----|-----|-----|\n",
    "| `Y` |  24 |  28 |  24 | 19 |  37 | 22 | 34 |  25 |  36 |  24 |  20 |  18 |\n",
    "\n",
    "1\\. For `X `and `Y`, compute the median, mean, variance and standard deviation. The data points have already been entered into a `.csv` file stored in `data/data.csv`.\n",
    "> Hint: \n",
    "> - you can directly use `pandas` to load the data into a `DataFrame` ([`pd.read_csv`](https://pandas.pydata.org/docs/reference/frame.html));\n",
    "> - take a look at the built-in operations available for `DataFrame` objects ([documentation](https://pandas.pydata.org/docs/reference/frame.html));\n",
    "> - to display a `DataFrame` `f`:\n",
    "> ```python \n",
    "> from IPython.display import display\n",
    "> display(df)\n",
    "> ```\n",
    "> - sort the `DataFrame` with respect to the value of `X` (see [here](https://pandas.pydata.org/docs/reference/api/pandas.DataFrame.sort_values.html#pandas.DataFrame.sort_values)) This will be useful for question 3."
   ]
  },
  {
   "attachments": {},
   "cell_type": "markdown",
   "metadata": {},
   "source": [
    "**Answer**:"
   ]
  },
  {
   "cell_type": "code",
   "execution_count": 31,
   "metadata": {},
   "outputs": [
    {
     "name": "stdout",
     "output_type": "stream",
     "text": [
      "Mortalité infantile (X) - Médiane: 180.5, Moyenne: 153.75, Variance: 3486.0227272727275, Ecart-type: 59.04255014201815\n",
      "PNB par habitant (Y) - Médiane: 24.0, Moyenne: 25.916666666666668, Variance: 42.446969696969695, Ecart-type: 6.5151338970868204\n"
     ]
    },
    {
     "data": {
      "text/html": [
       "<div>\n",
       "<style scoped>\n",
       "    .dataframe tbody tr th:only-of-type {\n",
       "        vertical-align: middle;\n",
       "    }\n",
       "\n",
       "    .dataframe tbody tr th {\n",
       "        vertical-align: top;\n",
       "    }\n",
       "\n",
       "    .dataframe thead th {\n",
       "        text-align: right;\n",
       "    }\n",
       "</style>\n",
       "<table border=\"1\" class=\"dataframe\">\n",
       "  <thead>\n",
       "    <tr style=\"text-align: right;\">\n",
       "      <th></th>\n",
       "      <th>X</th>\n",
       "      <th>Y</th>\n",
       "    </tr>\n",
       "  </thead>\n",
       "  <tbody>\n",
       "    <tr>\n",
       "      <th>4</th>\n",
       "      <td>56</td>\n",
       "      <td>37</td>\n",
       "    </tr>\n",
       "    <tr>\n",
       "      <th>6</th>\n",
       "      <td>68</td>\n",
       "      <td>34</td>\n",
       "    </tr>\n",
       "    <tr>\n",
       "      <th>7</th>\n",
       "      <td>98</td>\n",
       "      <td>25</td>\n",
       "    </tr>\n",
       "    <tr>\n",
       "      <th>8</th>\n",
       "      <td>110</td>\n",
       "      <td>36</td>\n",
       "    </tr>\n",
       "    <tr>\n",
       "      <th>1</th>\n",
       "      <td>128</td>\n",
       "      <td>28</td>\n",
       "    </tr>\n",
       "  </tbody>\n",
       "</table>\n",
       "</div>"
      ],
      "text/plain": [
       "     X   Y\n",
       "4   56  37\n",
       "6   68  34\n",
       "7   98  25\n",
       "8  110  36\n",
       "1  128  28"
      ]
     },
     "execution_count": 31,
     "metadata": {},
     "output_type": "execute_result"
    }
   ],
   "source": [
    "df = pd.read_csv('data/data.csv')\n",
    "\n",
    "# Calcule des statistiques\n",
    "median_X = df['X'].median()\n",
    "mean_X = df['X'].mean()\n",
    "variance_X = df['X'].var()\n",
    "std_dev_X = df['X'].std()\n",
    "\n",
    "median_Y = df['Y'].median()\n",
    "mean_Y = df['Y'].mean()\n",
    "variance_Y = df['Y'].var()\n",
    "std_dev_Y = df['Y'].std()\n",
    "\n",
    "print(f\"Mortalité infantile (X) - Médiane: {median_X}, Moyenne: {mean_X}, Variance: {variance_X}, Ecart-type: {std_dev_X}\")\n",
    "print(f\"PNB par habitant (Y) - Médiane: {median_Y}, Moyenne: {mean_Y}, Variance: {variance_Y}, Ecart-type: {std_dev_Y}\")\n",
    "\n",
    "# Trier les valeurs\n",
    "df_sorted = df.sort_values(by='X')\n",
    "df_sorted.head()"
   ]
  },
  {
   "attachments": {},
   "cell_type": "markdown",
   "metadata": {},
   "source": [
    "2\\. Give the equation of the regression line of `Y` as a function of `X`.\n",
    "> Hint: \n",
    "> - take a look at the functionalities available in `numpy` (e.g., `np.polyfit` and `np.polyval`);\n",
    "> - if needed, note that you can retrieve the data from the resulting `pandas` `DataFrame` with the `to_numpy()` method."
   ]
  },
  {
   "attachments": {},
   "cell_type": "markdown",
   "metadata": {},
   "source": [
    "**Answer**:"
   ]
  },
  {
   "cell_type": "code",
   "execution_count": 33,
   "metadata": {},
   "outputs": [
    {
     "name": "stdout",
     "output_type": "stream",
     "text": [
      "Y = -0.10X + 41.01\n"
     ]
    }
   ],
   "source": [
    "X = df['X'].to_numpy()\n",
    "Y = df['Y'].to_numpy()\n",
    "\n",
    "coefficients = np.polyfit(X, Y, 1)\n",
    "a, b = coefficients\n",
    "\n",
    "print(f\"Y = {a:.2f}X + {b:.2f}\")\n"
   ]
  },
  {
   "attachments": {},
   "cell_type": "markdown",
   "metadata": {},
   "source": [
    "3\\. Display the cloud of points and the regression line $Y = f(X)$ on the same figure. Save the figure in `.png` format."
   ]
  },
  {
   "attachments": {},
   "cell_type": "markdown",
   "metadata": {},
   "source": [
    "**Answer**:"
   ]
  },
  {
   "cell_type": "code",
   "execution_count": 34,
   "metadata": {},
   "outputs": [
    {
     "data": {
      "image/png": "[encoded data removed]",
      "text/plain": [
       "<Figure size 800x600 with 1 Axes>"
      ]
     },
     "metadata": {},
     "output_type": "display_data"
    }
   ],
   "source": [
    "Y_pred = np.polyval(coefficients, X)\n",
    "\n",
    "plt.figure(figsize=(8, 6))\n",
    "plt.scatter(X, Y, color='blue', label='Données', alpha=0.7)\n",
    "plt.plot(X, Y_pred, color='red', label=f\"Régression linéaire: Y = {a:.2f}X + {b:.2f}\")\n",
    "\n",
    "plt.title(\"Nuage de points et droite de régression\")\n",
    "plt.xlabel(\"Mortalité infantile (X)\")\n",
    "plt.ylabel(\"PNB par habitant (Y)\")\n",
    "plt.legend()\n",
    "plt.grid(True)\n",
    "\n",
    "plt.savefig('regression_line.png')\n",
    "\n",
    "plt.show()"
   ]
  },
  {
   "attachments": {},
   "cell_type": "markdown",
   "metadata": {},
   "source": [
    "---\n",
    "## <a name=\"ex3\">Exercise 3: Discrete isotropic total variation</a>\n",
    "\n",
    "This exercise is devoted to the computation of the discrete isotropic total variation (TV) of an input matrix $\\mathbf{X} = [\\mathbf{x}_n]_{1 \\leq n \\leq N} \\in\\mathbb{C}^{M \\times N}$, which is particularly useful in Bayesian inference (e.g., for inverse problems) to promote piece-wise smooth solutions. The TV is defined as\n",
    "\n",
    "\\begin{equation*}\n",
    "    \\text{TV}(\\mathbf{X}) = \\Vert D(\\mathbf{X}) \\Vert_{1,2} = \\sum_{m=1}^M \\sum_{n=1}^N \\sqrt{[\\mathbf{XD}_h]^2_{m,n} + [\\mathbf{D}_v\\mathbf{X}]^2_{m,n}},\n",
    "\\end{equation*}\n",
    "\n",
    "where $[\\mathbf{Z}]_{m,n}$ denotes the elements in position $(m,n)$ of the matrix $\\mathbf{Z}$,\n",
    "\n",
    "\\begin{align*}\n",
    "    D(X) &= (\\mathbf{XD}_h, \\mathbf{D}_v\\mathbf{X}) \\in \\mathbb{C}^{M\\times N} \\times \\mathbb{C}^{M\\times N} \\\\\n",
    "    %\n",
    "    \\mathbf{XD}_h &= [\\mathbf{x}_2-\\mathbf{x}_1, \\dotsc, \\mathbf{x}_N-\\mathbf{x}_{N-1}, \\mathbf{0}_M] \\in \\mathbb{C}^{M\\times N} \\\\\n",
    "    %\n",
    "    \\mathbf{D}_v\\mathbf{X} &= [\\tilde{\\mathbf{x}}_2^T-\\tilde{\\mathbf{x}}^T_1, \\dotsc, \\tilde{\\mathbf{x}}^T_M-\\tilde{\\mathbf{x}}^T_{M-1}, \\mathbf{0}_N]^T \\in \\mathbb{C}^{M\\times N},\n",
    "\\end{align*}\n",
    "\n",
    "$\\mathbf{x}_n \\in \\mathbb{C}^{M}$ is the $n$-th column of $\\mathbf{X}$, and $\\tilde{\\mathbf{x}}_m \\in \\mathbb{C}^{1\\times N}$ is the $m$-th row of $\\mathbf{X}$. \n",
    "The linear operator $D: \\mathbb{C}^{M\\times N} \\rightarrow \\mathbb{C}^{M\\times N} \\times \\mathbb{C}^{M\\times N} $ is the discrete gradient operator. The adjoint of $D$, $D^*: \\mathbb{C}^{M\\times N} \\times \\mathbb{C}^{M\\times N} \\rightarrow \\mathbb{C}^{M\\times N}$, is given by\n",
    "\n",
    "\\begin{align*}\n",
    "    (\\forall \\mathbf{Y} = (\\mathbf{Y}_h,\\mathbf{Y}_v)), \\quad D^*(\\mathbf{Y}) &= \\mathbf{Y}_h\\mathbf{D}^*_h + \\mathbf{D}^*_v\\mathbf{Y}_v \\\\\n",
    "    %\n",
    "    \\mathbf{Y}_h\\mathbf{D}^*_h &= \\big[-\\mathbf{y}_{h,1},- [\\mathbf{y}_{h,n}-\\mathbf{y}_{h,n-1}]_{2 \\leq n \\leq N-1}, \\mathbf{y}_{h, N-1} \\big] \\\\\n",
    "    %\n",
    "    \\mathbf{D}^*_v\\mathbf{Y}_v &= \\big[-\\tilde{\\mathbf{y}}_{v,1}^T,- [\\tilde{\\mathbf{y}}_{v,m}^T-\\tilde{\\mathbf{y}}^T_{v,m-1}]_{2 \\leq m \\leq M-1}, \\tilde{\\mathbf{y}}^T_{v, M-1} \\big]^T\n",
    "\\end{align*}\n",
    "\n",
    "where $\\mathbf{y}_{h,n}$ is the $n$-th column of $\\mathbf{Y}_h$, and $\\tilde{\\mathbf{x}}_{v,m}$ is the $m$-th row of $\\mathbf{Y}_v$.\n",
    "\n",
    "1\\. Using `numpy`, implement a function `gradient2D` to compute the 2D discrete gradient operator $D$ applied to a matrix $\\mathbf{X}\\in\\mathbb{C}^{M \\times N}$ (no for loops!). Trigger an error message whenever the input array has more than 2 dimensions. If not clear from the implementation, add a few short comments to explain your code.\n",
    "\n",
    "> Hint: \n",
    "> - to trigger an error, you can for instance use an `assert` statement, or raise an [exception (e.g., `AssertionError`)](https://docs.python.org/3/library/exceptions.html);\n",
    "> - only a few operations are needed: computing vertical differences, horizontal differences, and possibly a concatenation of matrices into a single tensor (= n-dimensional array);\n",
    "> - possibly useful functions: `np.diff`, `np.c_`, `np.r_` (or `np.concatenate`). "
   ]
  },
  {
   "attachments": {},
   "cell_type": "markdown",
   "metadata": {},
   "source": [
    "**Answer**:"
   ]
  },
  {
   "cell_type": "code",
   "execution_count": 33,
   "metadata": {},
   "outputs": [],
   "source": [
    "def gradient2D(X):\n",
    "    # Verify that the input array has more than 2 dimensions\n",
    "    assert X.ndim <= 2, \"The input must have more than 2 dimensions.\"\n",
    "\n",
    "    # If X has 1D, add an axis to treat it later\n",
    "    if X.ndim == 1:\n",
    "        X = X[:, np.newaxis]\n",
    "\n",
    "    # Horizontale\n",
    "    Dh = np.diff(X, axis=1) if X.shape[1] > 1 else np.zeros_like(X)\n",
    "    if Dh.shape[1] < X.shape[1]:\n",
    "        Dh = np.c_[Dh, np.zeros((X.shape[0], 1))] #add a column of zeros at the end to preserve the dimension\n",
    "\n",
    "    # Verticale\n",
    "    Dv = np.diff(X, axis=0) \n",
    "    Dv = np.r_[Dv, np.zeros((1, X.shape[1]))] #add a row of zeros at the end to preserve the dimension\n",
    "\n",
    "    return Dh, Dv"
   ]
  },
  {
   "attachments": {},
   "cell_type": "markdown",
   "metadata": {},
   "source": [
    "2\\. Implement a unit-test to validate the behaviour of the `gradient2D` function. For instance, you can check the format of the output, and test the result when the function is evaluated on a constant matrix (for both a square and a non-square input matrix). Run the unit-test from the present Jupyter notebook."
   ]
  },
  {
   "attachments": {},
   "cell_type": "markdown",
   "metadata": {},
   "source": [
    "**Answer**:"
   ]
  },
  {
   "cell_type": "code",
   "execution_count": 34,
   "metadata": {},
   "outputs": [
    {
     "name": "stderr",
     "output_type": "stream",
     "text": [
      "...\n",
      "----------------------------------------------------------------------\n",
      "Ran 3 tests in 0.011s\n",
      "\n",
      "OK\n"
     ]
    },
    {
     "data": {
      "text/plain": [
       "<unittest.runner.TextTestResult run=3 errors=0 failures=0>"
      ]
     },
     "execution_count": 34,
     "metadata": {},
     "output_type": "execute_result"
    }
   ],
   "source": [
    "class TestGradient2D(unittest.TestCase):\n",
    "    \n",
    "    def test_constant_matrix_square(self):\n",
    "        \"\"\"Test when the function is evaluated on a constant matrix for a square matrix\"\"\"\n",
    "        X = np.ones((3, 3))\n",
    "        Dh, Dv = gradient2D(X)\n",
    "        np.testing.assert_array_equal(Dh, np.zeros_like(X), \"Dh has to be null.\")\n",
    "        np.testing.assert_array_equal(Dv, np.zeros_like(X), \"Dv has to be null.\")\n",
    "    \n",
    "    def test_constant_matrix_non_square(self):\n",
    "        \"\"\"Test when the function is evaluated on a constant matrix for a non-square matrix\"\"\"\n",
    "        X = np.ones((2, 4))\n",
    "        Dh, Dv = gradient2D(X)\n",
    "        np.testing.assert_array_equal(Dh, np.zeros_like(X), \"Le gradient horizontal de la matrice constante doit être nul.\")\n",
    "        np.testing.assert_array_equal(Dv, np.zeros_like(X), \"Le gradient vertical de la matrice constante doit être nul.\")\n",
    "\n",
    "    def test_shape(self) :\n",
    "        \"\"\"Test when the shape of the output matrix\"\"\"\n",
    "        np.random.seed(42)\n",
    "        rows = np.random.randint(1, 10)  # Dimension aléatoire pour les lignes\n",
    "        cols = np.random.randint(1, 10)  # Dimension aléatoire pour les colonnes\n",
    "        X = np.random.randn(rows, cols)\n",
    "        Dh, Dv = gradient2D(X)\n",
    "        self.assertEqual(Dh.shape, X.shape) # The dimension of Dh is equal to the shape of the input X\n",
    "        self.assertEqual(Dv.shape, X.shape) # The dimension of Dv is equal to the shape of the input X\n",
    "\n",
    "unittest.TextTestRunner().run(unittest.TestLoader().loadTestsFromTestCase(TestGradient2D))\n"
   ]
  },
  {
   "attachments": {},
   "cell_type": "markdown",
   "metadata": {},
   "source": [
    "3\\. Document the function `gradient2D` with an appropriate docstring (see Lab 1)."
   ]
  },
  {
   "attachments": {},
   "cell_type": "markdown",
   "metadata": {},
   "source": [
    "**Answer**:"
   ]
  },
  {
   "cell_type": "code",
   "execution_count": 35,
   "metadata": {},
   "outputs": [],
   "source": [
    "def gradient2D(X):\n",
    "    \"\"\"\n",
    "    Compute the 2D discrete gradient of the input matrix X.\n",
    "\n",
    "    Parameters\n",
    "    ----------\n",
    "    X : np.ndarray\n",
    "        A 2D input matrix of shape (M, N), where M is the number of rows and N is the number of columns.\n",
    "        If X is a 1D array, it will be reshaped into a (M, 1) matrix.\n",
    "\n",
    "    Returns\n",
    "    -------\n",
    "    tuple of np.ndarray\n",
    "        - Dh: Horizontal gradient matrix of the same shape as X.\n",
    "        - Dv: Vertical gradient matrix of the same shape as X.\n",
    "    \"\"\"\n",
    "    \n",
    "    # Verify that the input array has more than 2 dimensions\n",
    "    assert X.ndim <= 2, \"The input must have more than 2 dimensions.\"\n",
    "\n",
    "    # If X has 1D, add an axis to treat it later\n",
    "    if X.ndim == 1:\n",
    "        X = X[:, np.newaxis]\n",
    "\n",
    "    # Horizontale\n",
    "    Dh = np.diff(X, axis=1) if X.shape[1] > 1 else np.zeros_like(X)\n",
    "    if Dh.shape[1] < X.shape[1]:\n",
    "        Dh = np.c_[Dh, np.zeros((X.shape[0], 1))] #add a column of zeros at the end to preserve the dimension\n",
    "\n",
    "    # Verticale\n",
    "    Dv = np.diff(X, axis=0) \n",
    "    Dv = np.r_[Dv, np.zeros((1, X.shape[1]))] #add a row of zeros at the end to preserve the dimension\n",
    "\n",
    "    return Dh, Dv"
   ]
  },
  {
   "attachments": {},
   "cell_type": "markdown",
   "metadata": {},
   "source": [
    "4\\. Using 1., define a function `tv` to compute $\\text{TV}(\\mathbf{X})$, $\\mathbf{X}\\in\\mathbb{C}^{M \\times N}$. Write a unit-test and document your function."
   ]
  },
  {
   "attachments": {},
   "cell_type": "markdown",
   "metadata": {},
   "source": [
    "**Answer**:"
   ]
  },
  {
   "cell_type": "code",
   "execution_count": 37,
   "metadata": {},
   "outputs": [
    {
     "name": "stderr",
     "output_type": "stream",
     "text": [
      "..\n",
      "----------------------------------------------------------------------\n",
      "Ran 2 tests in 0.003s\n",
      "\n",
      "OK\n"
     ]
    },
    {
     "data": {
      "text/plain": [
       "<unittest.runner.TextTestResult run=2 errors=0 failures=0>"
      ]
     },
     "execution_count": 37,
     "metadata": {},
     "output_type": "execute_result"
    }
   ],
   "source": [
    "def tv(X) : \n",
    "    Dh, Dv = gradient2D(X)\n",
    "    tv_value = np.sum(np.sqrt(Dh**2 + Dv**2))\n",
    "    \n",
    "    return tv_value\n",
    "\n",
    "class TestTVFunction(unittest.TestCase):\n",
    "    \n",
    "    def test_tv_constant_square_matrix(self):\n",
    "        \"\"\"Test that the Total Variance of a constant matrix is null for a square matrix\"\"\"\n",
    "        X = np.ones((3, 3))\n",
    "        self.assertEqual(tv(X), 0.0, \"La variation totale d'une matrice constante doit être 0.\")\n",
    "\n",
    "    def test_tv_constant_nonsquare_matrix(self):\n",
    "        \"\"\"Test that the Total Variance of a constant matrix is null for a non-square matrix\"\"\"\n",
    "        X = np.ones((5, 2))\n",
    "        self.assertEqual(tv(X), 0.0, \"La variation totale d'une matrice constante doit être 0.\")\n",
    "\n",
    "unittest.TextTestRunner().run(unittest.TestLoader().loadTestsFromTestCase(TestTVFunction))\n"
   ]
  },
  {
   "attachments": {},
   "cell_type": "markdown",
   "metadata": {},
   "source": [
    "5\\. Implement a function `gradient2D_adjoint` to compute $D^*(\\mathbf{Y})$, the adjoint of the 2D discrete gradient operator $D$ applied to $\\mathbf{Y}\\in\\mathbb{C}^{M \\times N}\\times \\mathbb{C}^{M \\times N}$. Add a few short comments to explain your code whenever appropriate."
   ]
  },
  {
   "attachments": {},
   "cell_type": "markdown",
   "metadata": {},
   "source": [
    "**Answer**:"
   ]
  },
  {
   "cell_type": "code",
   "execution_count": 9,
   "metadata": {},
   "outputs": [],
   "source": [
    "def gradient2D_adjoint(Y) :\n",
    "\n",
    "    \"\"\"\n",
    "    Compute the adjoint of the 2D discrete gradient operator D.\n",
    "    \n",
    "    Parameters:\n",
    "    - Y: tuple of np.arrays (Y_h, Y_v), \n",
    "         Y_h is the horizontal component of the gradient (shape M x N),\n",
    "         Y_v is the vertical component of the gradient (shape M x N)\n",
    "    \n",
    "    Returns:\n",
    "    - adj: np.array of shape (M, N), adjoint of the gradient operator D\n",
    "    \"\"\"\n",
    "\n",
    "    Y_h, Y_v = Y\n",
    "    M, N = Y_h.shape\n",
    "    adj = np.zeros((M, N), dtype=Y_h.dtype)\n",
    "    adj[:,0] -= Y_h[:,0] # First column (boundary condition)\n",
    "    adj[:,1:] -= (Y_h[:,1:]-Y_h[:,:-1]) # Central columns\n",
    "    adj[:,-1] += Y_h[:,-1] # Last column (boundary condition)\n",
    "\n",
    "    adj[0, :] -= Y_v[0, :]  # First row (boundary condition)\n",
    "    adj[1:, :] -= Y_v[1:, :] - Y_v[:-1, :]  # Central rows\n",
    "    adj[-1, :] += Y_v[-1, :] # Last row (boundary condition)\n",
    "\n",
    "    return adj"
   ]
  },
  {
   "attachments": {},
   "cell_type": "markdown",
   "metadata": {},
   "source": [
    "6\\. Implement a unit-test to validate `gradient2D_adjoint`, e.g., by checking the size of the output from the function and verifying that `gradient2D_adjoint` is adjoint to `gradient2D`, i.e., for any $\\mathbf{X}\\in\\mathbb{C}^{M \\times N}$ and $\\mathbf{Y}\\in\\mathbb{C}^{M \\times N}\\times \\mathbb{C}^{M \\times N}$:\n",
    "\n",
    "\\begin{equation}\n",
    "    \\forall \\mathbf{X} \\in \\mathbb{C}^{M \\times N}, \\mathbf{Y} = (\\mathbf{Y}_h, \\mathbf{Y}_v) \\in \\mathbb{C}^{M \\times N} \\times \\mathbb{C}^{M \\times N}, \\;\n",
    "    %\n",
    "    \\langle D(\\mathbf{X}), \\mathbf{Y} \\rangle_{\\mathbb{C}^{M \\times N} \\times \\mathbb{C}^{M \\times N}} = \\langle \\mathbf{X}, D^*(\\mathbf{Y}) \\rangle_{\\mathbb{C}^{M \\times N}}, \n",
    "\\end{equation}\n",
    "\n",
    "where \n",
    "\n",
    "\\begin{align}\n",
    "    &\\forall \\mathbf{U}, \\mathbf{V} \\in \\mathbb{C}^{M \\times N}, \\; \\langle \\mathbf{U}, \\mathbf{V} \\rangle_{\\mathbb{C}^{M \\times N}} = \\text{Tr}(\\mathbf{U}^T \\mathbf{V}) = \\sum_{m=1}^M \\sum_{n=1}^N u_{m,n}^* v_{m,n}, \\\\\n",
    "    &\\forall \\mathbf{U} = (\\mathbf{U}_h, \\mathbf{U}_v), \\mathbf{V} = (\\mathbf{V}_h, \\mathbf{V}_v) \\in \\mathbb{C}^{M \\times N} \\times \\mathbb{C}^{M \\times N}, \\; \\langle \\mathbf{U}, \\mathbf{V} \\rangle_{\\mathbb{C}^{M \\times N} \\times \\mathbb{C}^{M \\times N}} = \\langle \\mathbf{U}_h, \\mathbf{V}_h \\rangle_{\\mathbb{C}^{M \\times N}} + \\langle \\mathbf{U}_v, \\mathbf{V}_v \\rangle_{\\mathbb{C}^{M \\times N}}.\n",
    "\\end{align}\n",
    "\n",
    "> Hint: to verify `gradient2D_adjoint` is the adjoint of `gradient2D`, evaluate the scalar products above for randomly drawn matrices. Set the random generator to a known state for reproducibility (see [Exercise 1](#ex1)).\n",
    "\n",
    "> `np.conj` is useful."
   ]
  },
  {
   "attachments": {},
   "cell_type": "markdown",
   "metadata": {},
   "source": [
    "**Answer**:"
   ]
  },
  {
   "cell_type": "code",
   "execution_count": 38,
   "metadata": {},
   "outputs": [
    {
     "name": "stdout",
     "output_type": "stream",
     "text": [
      "LHS (D(X), Y): (-3.5869639921183056+7.3487521109080465j)\n",
      "RHS (X, D*(Y)): (-3.5869639921183065+7.348752110908047j)\n"
     ]
    }
   ],
   "source": [
    "def scalar_product (U,V):\n",
    "    return np.sum(np.conj(U)*V)\n",
    "\n",
    "def test_gradient2D_adjoint () :\n",
    "    \"\"\"Unit test for gradient2D_adjoint to verify adjoint property.\"\"\"\n",
    "    \n",
    "    # Set seed for reproducibility\n",
    "    np.random.seed(42)\n",
    "    \n",
    "    # Generate random matrices X and Y_h, Y_v (real and imaginary parts)\n",
    "    M, N = 5, 5\n",
    "    X = np.random.randn(M, N) + 1j * np.random.randn(M, N)\n",
    "    Y_h = np.random.randn(M, N) + 1j * np.random.randn(M, N)\n",
    "    Y_v = np.random.randn(M, N) + 1j * np.random.randn(M, N)\n",
    "    Y = (Y_h, Y_v)\n",
    "    \n",
    "    # Compute gradient of X\n",
    "    XDh, DvX = gradient2D(X)\n",
    "    \n",
    "    # Compute adjoint of Y\n",
    "    adj_Y = gradient2D_adjoint(Y)\n",
    "    \n",
    "    # Calculate the scalar products\n",
    "    lhs = scalar_product(XDh, Y_h) + scalar_product(DvX, Y_v)\n",
    "    rhs = scalar_product(X, adj_Y)\n",
    "    \n",
    "    print(f\"LHS (D(X), Y): {lhs}\")\n",
    "    print(f\"RHS (X, D*(Y)): {rhs}\")\n",
    "    \n",
    "    # Check if the adjoint property holds (within a tolerance for numerical precision)\n",
    "    assert np.isclose(lhs, rhs,rtol=1e-05, atol=1e-08), f\"Adjoint property does not hold: LHS={lhs}, RHS={rhs}\"\n",
    "\n",
    "# Run the unit test\n",
    "test_gradient2D_adjoint()\n",
    "    "
   ]
  },
  {
   "cell_type": "markdown",
   "metadata": {},
   "source": []
  },
  {
   "attachments": {},
   "cell_type": "markdown",
   "metadata": {},
   "source": [
    "[Bonus, **optional**]. Generalize the `gradient2D` to any number of dimensions ($\\mathbf{X} \\in \\mathbb{C}^{N_1 \\times N_2 \\times \\dotsc \\times N_p}$), i.e., by returning tensors obtained by computing differences along each of its dimensions.\n",
    "> Hint: \n",
    "> - you may use a loops here, and/or list comprehension. Using slice objects (see [np.s_](https://numpy.org/doc/stable/reference/generated/numpy.s_.html?highlight=s_#numpy.s_) and [this page](https://stackoverflow.com/questions/24432209/python-index-an-array-using-the-colon-operator-in-an-arbitrary-dimension)) can be an interesting option.\n",
    ">\n",
    "> - the definition of the scalar product above can be extended to the case of tensors as follows:\n",
    "\\begin{equation}\n",
    "    \\mathbf{U}, \\mathbf{V} \\in \\mathbb{C}^{N_1 \\times N_2 \\times \\dotsc \\times N_p}, \\; \\langle \\mathbf{U}, \\mathbf{V} \\rangle_{\\mathbb{C}^{N_1 \\times N_2 \\times \\dotsc \\times N_p}} =  \\sum_{n_1 = 1}^{N_1}  \\sum_{n_2 = 1}^{N_2} \\dotsc \\sum_{n_p = 1}^{N_p} u_{n_1, n_2, \\dotsc, n_p}^* v_{n_1, n_2, \\dotsc, n_p}   \n",
    "\\end{equation}"
   ]
  },
  {
   "attachments": {},
   "cell_type": "markdown",
   "metadata": {},
   "source": [
    "**Answer**:"
   ]
  },
  {
   "cell_type": "code",
   "execution_count": 39,
   "metadata": {},
   "outputs": [],
   "source": [
    "def gradientND(X):\n",
    "    \"\"\"\n",
    "    Compute X of dimension N.\n",
    "\n",
    "    Parameters\n",
    "    ----------\n",
    "    X : np.array of shape (N_1, N_2, ..., N_p), the input tensor\n",
    "\n",
    "    Returns\n",
    "    -------\n",
    "    gradients: list of np.arrays, each representing the gradient along one dimension\n",
    "    \"\"\"\n",
    "    \n",
    "    # Compute the dimension of the tensor\n",
    "    N = X.ndim\n",
    "    gradients = []\n",
    "    # D = np.zeros_like(X)\n",
    "\n",
    "    for i in range(N):\n",
    "        D = np.diff(X, axis=i) if X.shape[i] > 1 else np.zeros_like(X)\n",
    "        if D.shape[i] < X.shape[i]:\n",
    "            Dh = np.s_[Dh, np.zeros((X.shape[0], 1))] #add a column of zeros at the end to preserve the dimension\n",
    "        gradients.append(Dh)\n",
    "\n",
    "    \n",
    "    return gradients"
   ]
  },
  {
   "cell_type": "code",
   "execution_count": 44,
   "metadata": {},
   "outputs": [],
   "source": [
    "def gradientND(X):\n",
    "    \"\"\"\n",
    "    Compute X of dimension N.\n",
    "\n",
    "    Parameters\n",
    "    ----------\n",
    "    X : np.array of shape (N_1, N_2, ..., N_p), the input tensor\n",
    "\n",
    "    Returns\n",
    "    -------\n",
    "    gradients: list of np.arrays, each representing the gradient along one dimension\n",
    "    \"\"\"\n",
    "    \n",
    "    # Compute the dimension of the tensor\n",
    "    N = X.ndim\n",
    "    gradients = []\n",
    "\n",
    "    for d in range(N):\n",
    "        grad = np.zeros_like(X)\n",
    "        \n",
    "        # Slicing to get the difference along the d-th dimension\n",
    "        grad_slice = tuple(slice(None) if i != d else slice(1, None) for i in range(N)) \n",
    "        #change nothing when we are not in the good dimension and shifts the index by 1 along dimension d\n",
    "        prev_slice = tuple(slice(None) if i != d else slice(None, -1) for i in range(N))\n",
    "        #change nothing when we are not in the good dimension and keeps the same index but does not include the last element\n",
    "        grad[prev_slice] = X[grad_slice] - X[prev_slice]\n",
    "        #compute the difference between the two matrices\n",
    "\n",
    "        gradients.append(grad)\n",
    "    \n",
    "    return gradients\n"
   ]
  },
  {
   "cell_type": "code",
   "execution_count": 43,
   "metadata": {},
   "outputs": [
    {
     "name": "stdout",
     "output_type": "stream",
     "text": [
      "Gradient along dimension 0:\n",
      "[[[9 9 9]\n",
      "  [9 9 9]\n",
      "  [9 9 9]]\n",
      "\n",
      " [[0 0 0]\n",
      "  [0 0 0]\n",
      "  [0 0 0]]]\n",
      "\n",
      "Gradient along dimension 1:\n",
      "[[[3 3 3]\n",
      "  [3 3 3]\n",
      "  [0 0 0]]\n",
      "\n",
      " [[3 3 3]\n",
      "  [3 3 3]\n",
      "  [0 0 0]]]\n",
      "\n",
      "Gradient along dimension 2:\n",
      "[[[1 1 0]\n",
      "  [1 1 0]\n",
      "  [1 1 0]]\n",
      "\n",
      " [[1 1 0]\n",
      "  [1 1 0]\n",
      "  [1 1 0]]]\n",
      "\n"
     ]
    }
   ],
   "source": [
    "X = np.array([[[1, 2, 3],\n",
    "               [4, 5, 6],\n",
    "               [7, 8, 9]],\n",
    "\n",
    "              [[10, 11, 12],\n",
    "               [13, 14, 15],\n",
    "               [16, 17, 18]]])\n",
    "\n",
    "# Compute the gradients\n",
    "grads = gradientND(X)\n",
    "\n",
    "# Display the results\n",
    "for i, grad in enumerate(grads):\n",
    "    print(f\"Gradient along dimension {i}:\\n{grad}\\n\")"
   ]
  },
  {
   "attachments": {},
   "cell_type": "markdown",
   "metadata": {},
   "source": [
    "## Reference\n",
    "\n",
    "```bibtex\n",
    "@article{condat:hal-01309685,\n",
    "  TITLE = {{Discrete Total Variation: New Definition and Minimization}},\n",
    "  AUTHOR = {Condat, Laurent},\n",
    "  URL = {https://hal.archives-ouvertes.fr/hal-01309685},\n",
    "  JOURNAL = {{SIAM Journal on Imaging Sciences}},\n",
    "  PUBLISHER = {{Society for Industrial and Applied Mathematics}},\n",
    "  VOLUME = {10},\n",
    "  NUMBER = {3},\n",
    "  PAGES = {1258--1290},\n",
    "  YEAR = {2017},\n",
    "  MONTH = Aug,\n",
    "  DOI = {10.1137/16M1075247},\n",
    "  KEYWORDS = { variational image processing ; total variation ;  finite-difference schemes ;  coarea formula},\n",
    "  PDF = {https://hal.archives-ouvertes.fr/hal-01309685v3/file/Condat-newTV.pdf},\n",
    "  HAL_ID = {hal-01309685},\n",
    "  HAL_VERSION = {v3},\n",
    "}\n",
    "```\n"
   ]
  }
 ],
 "metadata": {
  "kernelspec": {
   "display_name": "Python 3 (ipykernel)",
   "language": "python",
   "name": "python3"
  },
  "language_info": {
   "codemirror_mode": {
    "name": "ipython",
    "version": 3
   },
   "file_extension": ".py",
   "mimetype": "text/x-python",
   "name": "python",
   "nbconvert_exporter": "python",
   "pygments_lexer": "ipython3",
   "version": "3.8.19"
  },
  "vscode": {
   "interpreter": {
    "hash": "916dbcbb3f70747c44a77c7bcd40155683ae19c65e1c03b4aa3499c5328201f1"
   }
  }
 },
 "nbformat": 4,
 "nbformat_minor": 4
}
